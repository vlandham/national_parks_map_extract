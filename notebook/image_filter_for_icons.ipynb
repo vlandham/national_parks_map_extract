{
 "cells": [
  {
   "cell_type": "code",
   "execution_count": 33,
   "metadata": {
    "collapsed": false
   },
   "outputs": [],
   "source": [
    "%matplotlib inline\n",
    "\n",
    "import os\n",
    "from skimage import data, io, filters\n",
    "import scipy.ndimage as ndimage\n",
    "from skimage import color, img_as_float\n",
    "\n",
    "import matplotlib\n",
    "import matplotlib.pyplot as plt\n",
    "\n",
    "import numpy as np"
   ]
  },
  {
   "cell_type": "code",
   "execution_count": 30,
   "metadata": {
    "collapsed": true
   },
   "outputs": [],
   "source": [
    "class BBox(object):\n",
    "    def __init__(self, x1, y1, x2, y2):\n",
    "        '''\n",
    "        (x1, y1) is the upper left corner,\n",
    "        (x2, y2) is the lower right corner,\n",
    "        with (0, 0) being in the upper left corner.\n",
    "        '''\n",
    "        if x1 > x2: x1, x2 = x2, x1\n",
    "        if y1 > y2: y1, y2 = y2, y1\n",
    "        self.x1 = x1\n",
    "        self.y1 = y1\n",
    "        self.x2 = x2\n",
    "        self.y2 = y2\n",
    "    \n",
    "    def width(self):\n",
    "        return self.x2 - self.x1\n",
    "    \n",
    "    def height(self):\n",
    "        return self.y2 - self.y1\n",
    "    \n",
    "    def x_extent(self):\n",
    "        return self.x1 + self.width()\n",
    "\n",
    "    def y_extent(self):\n",
    "        return self.y1 + self.height()\n",
    "    \n",
    "    def extract(self, img):\n",
    "        return img[(self.y1 - 1):self.y_extent(), (self.x1 - 1):self.x_extent(), :]\n",
    "\n",
    "    \n",
    "    def taxicab_diagonal(self):\n",
    "        '''\n",
    "        Return the taxicab distance from (x1,y1) to (x2,y2)\n",
    "        '''\n",
    "        return self.x2 - self.x1 + self.y2 - self.y1\n",
    "    \n",
    "    def overlaps(self, other):\n",
    "        '''\n",
    "        Return True iff self and other overlap.\n",
    "        '''\n",
    "        return not ((self.x1 > other.x2)\n",
    "                    or (self.x2 < other.x1)\n",
    "                    or (self.y1 > other.y2)\n",
    "                    or (self.y2 < other.y1))\n",
    "    \n",
    "    def __eq__(self, other):\n",
    "        return (self.x1 == other.x1\n",
    "                and self.y1 == other.y1\n",
    "                and self.x2 == other.x2\n",
    "                and self.y2 == other.y2)\n",
    "\n",
    "    \n",
    "def slice_to_bbox(slices):\n",
    "    for s in slices:\n",
    "        dy, dx = s[:2]\n",
    "        yield BBox(dx.start, dy.start, dx.stop+1, dy.stop+1)\n",
    "\n",
    "        \n",
    "def remove_overlaps(bboxes):\n",
    "    '''\n",
    "    Return a set of BBoxes which contain the given BBoxes.\n",
    "    When two BBoxes overlap, replace both with the minimal BBox that contains both.\n",
    "    '''\n",
    "    # list upper left and lower right corners of the Bboxes\n",
    "    corners = []\n",
    "\n",
    "    # list upper left corners of the Bboxes\n",
    "    ulcorners = []\n",
    "\n",
    "    # dict mapping corners to Bboxes.\n",
    "    bbox_map = {}\n",
    "\n",
    "    for bbox in bboxes:\n",
    "        ul = (bbox.x1, bbox.y1)\n",
    "        lr = (bbox.x2, bbox.y2)\n",
    "        bbox_map[ul] = bbox\n",
    "        bbox_map[lr] = bbox\n",
    "        ulcorners.append(ul)\n",
    "        corners.append(ul)\n",
    "        corners.append(lr)        \n",
    "\n",
    "    # Use a KDTree so we can find corners that are nearby efficiently.\n",
    "    tree = spatial.KDTree(corners)\n",
    "    new_corners = []\n",
    "    for corner in ulcorners:\n",
    "        bbox = bbox_map[corner]\n",
    "        # Find all points which are within a taxicab distance of corner\n",
    "        indices = tree.query_ball_point(\n",
    "            corner, bbox_map[corner].taxicab_diagonal(), p = 1)\n",
    "        for near_corner in tree.data[indices]:\n",
    "            near_bbox = bbox_map[tuple(near_corner)]\n",
    "            if bbox != near_bbox and bbox.overlaps(near_bbox):\n",
    "                # Expand both bboxes.\n",
    "                # Since we mutate the bbox, all references to this bbox in\n",
    "                # bbox_map are updated simultaneously.\n",
    "                bbox.x1 = near_bbox.x1 = min(bbox.x1, near_bbox.x1)\n",
    "                bbox.y1 = near_bbox.y1 = min(bbox.y1, near_bbox.y1) \n",
    "                bbox.x2 = near_bbox.x2 = max(bbox.x2, near_bbox.x2)\n",
    "                bbox.y2 = near_bbox.y2 = max(bbox.y2, near_bbox.y2) \n",
    "    return set(bbox_map.values())\n",
    "\n",
    "def remove_dups(bboxes):\n",
    "    clean_set = []\n",
    "    for bbox in bboxes:\n",
    "        if bbox not in clean_set:\n",
    "            clean_set.append(bbox)\n",
    "    return clean_set\n",
    "\n",
    "def find_squares(bboxes):\n",
    "    return [bbox for bbox in bboxes if (bbox.width() > 30) and (bbox.width() < 50) and (bbox.height() > 30) and (bbox.height() < 50)]"
   ]
  },
  {
   "cell_type": "code",
   "execution_count": 31,
   "metadata": {
    "collapsed": false
   },
   "outputs": [
    {
     "data": {
      "text/plain": [
       "<matplotlib.figure.Figure at 0x177dd6450>"
      ]
     },
     "metadata": {},
     "output_type": "display_data"
    }
   ],
   "source": [
    "fig = matplotlib.pyplot.gcf()\n",
    "fig.set_size_inches(5.5, 5.5, forward=True)\n",
    "\n",
    "filename = '../out.jpg'\n"
   ]
  },
  {
   "cell_type": "code",
   "execution_count": 34,
   "metadata": {
    "collapsed": false
   },
   "outputs": [
    {
     "data": {
      "text/plain": [
       "<matplotlib.image.AxesImage at 0x178073b90>"
      ]
     },
     "execution_count": 34,
     "metadata": {},
     "output_type": "execute_result"
    },
    {
     "data": {
      "image/png": "[encoded data removed]",
      "text/plain": [
       "<matplotlib.figure.Figure at 0x17808cfd0>"
      ]
     },
     "metadata": {},
     "output_type": "display_data"
    }
   ],
   "source": [
    "fimg = img_as_float(img)\n",
    "\n",
    "filter_black = np.sum(fimg, axis=2)\n",
    "fimg_bw = fimg.copy()\n",
    "fimg_bw[(filter_black != 0)] = 1\n",
    "\n",
    "io.imshow(fimg_bw)"
   ]
  },
  {
   "cell_type": "code",
   "execution_count": 35,
   "metadata": {
    "collapsed": false
   },
   "outputs": [
    {
     "ename": "NameError",
     "evalue": "name 'icons_filter' is not defined",
     "output_type": "error",
     "traceback": [
      "\u001b[0;31m---------------------------------------------------------------------------\u001b[0m",
      "\u001b[0;31mNameError\u001b[0m                                 Traceback (most recent call last)",
      "\u001b[0;32m<ipython-input-35-1bf40fb5658a>\u001b[0m in \u001b[0;36m<module>\u001b[0;34m()\u001b[0m\n\u001b[1;32m      1\u001b[0m \u001b[0mfig\u001b[0m \u001b[0;34m=\u001b[0m \u001b[0mplt\u001b[0m\u001b[0;34m.\u001b[0m\u001b[0mfigure\u001b[0m\u001b[0;34m(\u001b[0m\u001b[0;34m)\u001b[0m\u001b[0;34m\u001b[0m\u001b[0m\n\u001b[1;32m      2\u001b[0m \u001b[0mi\u001b[0m \u001b[0;34m=\u001b[0m \u001b[0;36m1\u001b[0m\u001b[0;34m\u001b[0m\u001b[0m\n\u001b[0;32m----> 3\u001b[0;31m \u001b[0;32mfor\u001b[0m \u001b[0micon\u001b[0m \u001b[0;32min\u001b[0m \u001b[0micons_filter\u001b[0m\u001b[0;34m:\u001b[0m\u001b[0;34m\u001b[0m\u001b[0m\n\u001b[0m\u001b[1;32m      4\u001b[0m     \u001b[0;31m#ddd = fimg_bw[b.y1:b.y_extent(), b.x1:b.x_extent(), :]\u001b[0m\u001b[0;34m\u001b[0m\u001b[0;34m\u001b[0m\u001b[0m\n\u001b[1;32m      5\u001b[0m     \u001b[0max\u001b[0m \u001b[0;34m=\u001b[0m \u001b[0mfig\u001b[0m\u001b[0;34m.\u001b[0m\u001b[0madd_subplot\u001b[0m\u001b[0;34m(\u001b[0m\u001b[0;36m10\u001b[0m\u001b[0;34m,\u001b[0m\u001b[0;36m10\u001b[0m\u001b[0;34m,\u001b[0m\u001b[0mi\u001b[0m\u001b[0;34m)\u001b[0m\u001b[0;34m\u001b[0m\u001b[0m\n",
      "\u001b[0;31mNameError\u001b[0m: name 'icons_filter' is not defined"
     ]
    },
    {
     "data": {
      "text/plain": [
       "<matplotlib.figure.Figure at 0x129279a10>"
      ]
     },
     "metadata": {},
     "output_type": "display_data"
    }
   ],
   "source": [
    "fig = plt.figure()\n",
    "i = 1\n",
    "for icon in icons_filter:\n",
    "    #ddd = fimg_bw[b.y1:b.y_extent(), b.x1:b.x_extent(), :]\n",
    "    ax = fig.add_subplot(10,10,i)\n",
    "    ax.set_xticks([])\n",
    "    ax.set_yticks([])\n",
    "    i += 1\n",
    "    im = ax.imshow(icon) "
   ]
  },
  {
   "cell_type": "code",
   "execution_count": 36,
   "metadata": {
    "collapsed": false
   },
   "outputs": [
    {
     "name": "stdout",
     "output_type": "stream",
     "text": [
      "7243\n"
     ]
    },
    {
     "data": {
      "text/plain": [
       "248"
      ]
     },
     "execution_count": 36,
     "metadata": {},
     "output_type": "execute_result"
    },
    {
     "data": {
      "image/png": "[encoded data removed]",
      "text/plain": [
       "<matplotlib.figure.Figure at 0x177aa9390>"
      ]
     },
     "metadata": {},
     "output_type": "display_data"
    }
   ],
   "source": [
    "filename = \"../data/map_symbols.jpg\"\n",
    "img = io.imread(filename, as_grey=False)\n",
    "\n",
    "\n",
    "fimg = img_as_float(img)\n",
    "\n",
    "filter_black = np.sum(fimg, axis=2)\n",
    "fimg_bw = fimg.copy()\n",
    "fimg_bw[(filter_black > 1)] = 1\n",
    "\n",
    "io.imshow(fimg)\n",
    "\n",
    "fimg_bw_one = fimg_bw[:,:,1]\n",
    "fimg_bw_one_invert = 1 - fimg_bw_one\n",
    "\n",
    "labels, numobjects = ndimage.label(fimg_bw_one_invert)\n",
    "slices = ndimage.find_objects(labels)\n",
    "\n",
    "bboxes = slice_to_bbox(slices)\n",
    "#len(bboxes)\n",
    "bboxes = remove_dups(bboxes)\n",
    "print(len(bboxes))\n",
    "\n",
    "bboxes_filter = find_squares(bboxes)\n",
    "len(bboxes_filter)"
   ]
  },
  {
   "cell_type": "code",
   "execution_count": 37,
   "metadata": {
    "collapsed": false
   },
   "outputs": [
    {
     "data": {
      "image/png": "[encoded data removed]",
      "text/plain": [
       "<matplotlib.figure.Figure at 0x1780ee150>"
      ]
     },
     "metadata": {},
     "output_type": "display_data"
    }
   ],
   "source": [
    "import matplotlib.patches as patches\n",
    "fig = plt.figure()\n",
    "ax = fig.add_subplot(111)\n",
    "im = ax.imshow(fimg_bw)    \n",
    "for bbox in bboxes_filter:\n",
    "    xwidth = bbox.x2 - bbox.x1\n",
    "    ywidth = bbox.y2 - bbox.y1\n",
    "    p = patches.Rectangle((bbox.x1, bbox.y1), bbox.width(), bbox.height(),\n",
    "                          fc = 'none', ec = 'red')\n",
    "    ax.add_patch(p)"
   ]
  },
  {
   "cell_type": "code",
   "execution_count": 38,
   "metadata": {
    "collapsed": true
   },
   "outputs": [],
   "source": [
    "icons = [b.extract(fimg_bw) for b in bboxes_filter]\n",
    "\n",
    "#icon_sums = [sum(np.sum(icon[:,:,1], axis=1)) for icon in icons]"
   ]
  },
  {
   "cell_type": "code",
   "execution_count": 6,
   "metadata": {
    "collapsed": false
   },
   "outputs": [
    {
     "ename": "NameError",
     "evalue": "name 'icon_sums' is not defined",
     "output_type": "error",
     "traceback": [
      "\u001b[0;31m---------------------------------------------------------------------------\u001b[0m",
      "\u001b[0;31mNameError\u001b[0m                                 Traceback (most recent call last)",
      "\u001b[0;32m<ipython-input-6-a37dbb1db77f>\u001b[0m in \u001b[0;36m<module>\u001b[0;34m()\u001b[0m\n\u001b[0;32m----> 1\u001b[0;31m \u001b[0micons_filter\u001b[0m \u001b[0;34m=\u001b[0m \u001b[0;34m[\u001b[0m\u001b[0micon\u001b[0m \u001b[0;32mfor\u001b[0m \u001b[0mind\u001b[0m\u001b[0;34m,\u001b[0m \u001b[0micon\u001b[0m \u001b[0;32min\u001b[0m \u001b[0menumerate\u001b[0m\u001b[0;34m(\u001b[0m\u001b[0micons\u001b[0m\u001b[0;34m)\u001b[0m \u001b[0;32mif\u001b[0m \u001b[0micon_sums\u001b[0m\u001b[0;34m[\u001b[0m\u001b[0mind\u001b[0m\u001b[0;34m]\u001b[0m \u001b[0;34m<\u001b[0m \u001b[0;36m1100.0\u001b[0m\u001b[0;34m]\u001b[0m\u001b[0;34m\u001b[0m\u001b[0m\n\u001b[0m\u001b[1;32m      2\u001b[0m \u001b[0mlen\u001b[0m\u001b[0;34m(\u001b[0m\u001b[0micons_filter\u001b[0m\u001b[0;34m)\u001b[0m\u001b[0;34m\u001b[0m\u001b[0m\n",
      "\u001b[0;31mNameError\u001b[0m: name 'icon_sums' is not defined"
     ]
    }
   ],
   "source": [
    "#icons_filter = [icon for ind, icon in enumerate(icons) if icon_sums[ind] < 1100.0]\n",
    "#len(icons_filter)"
   ]
  },
  {
   "cell_type": "code",
   "execution_count": 53,
   "metadata": {
    "collapsed": false
   },
   "outputs": [
    {
     "name": "stdout",
     "output_type": "stream",
     "text": [
      "(43, 42, 3)\n",
      "(43, 48, 3)\n",
      "(43, 42, 3)\n"
     ]
    }
   ],
   "source": [
    "icons[1].shape\n",
    "\n",
    "icon = icons[0]\n",
    "shape = icon.shape\n",
    "print(icon.shape)\n",
    "\n",
    "print(icons[1].shape)\n",
    "icon2 = icons[1][0:shape[0], 0:shape[1], :]\n",
    "print(icon2.shape)"
   ]
  },
  {
   "cell_type": "code",
   "execution_count": 39,
   "metadata": {
    "collapsed": true
   },
   "outputs": [],
   "source": [
    "icons_sorted = sorted(icons, key=lambda x: sum(np.sum(x[:, :, 1], axis=1)))"
   ]
  },
  {
   "cell_type": "code",
   "execution_count": 43,
   "metadata": {
    "collapsed": false
   },
   "outputs": [
    {
     "data": {
      "text/plain": [
       "<matplotlib.image.AxesImage at 0x111afb4d0>"
      ]
     },
     "execution_count": 43,
     "metadata": {},
     "output_type": "execute_result"
    },
    {
     "data": {
      "image/png": "[encoded data removed]",
      "text/plain": [
       "<matplotlib.figure.Figure at 0x1372a0a10>"
      ]
     },
     "metadata": {},
     "output_type": "display_data"
    }
   ],
   "source": [
    "io.imshow(icons_sorted[0])"
   ]
  },
  {
   "cell_type": "code",
   "execution_count": 44,
   "metadata": {
    "collapsed": false
   },
   "outputs": [
    {
     "data": {
      "image/png": "[encoded data removed]",
      "text/plain": [
       "<matplotlib.figure.Figure at 0x1372bb1d0>"
      ]
     },
     "metadata": {},
     "output_type": "display_data"
    }
   ],
   "source": [
    "import math\n",
    "\n",
    "fig = plt.figure()\n",
    "width = 5\n",
    "height = math.ceil(len(icons_sorted) / float(width))\n",
    "#width = len(icons_filter) / 2\n",
    "i = 1\n",
    "for icon in icons_sorted:\n",
    "    #ddd = fimg_bw[b.y1:b.y_extent(), b.x1:b.x_extent(), :]\n",
    "    ax = fig.add_subplot(height,width,i)\n",
    "    ax.set_xticks([])\n",
    "    ax.set_yticks([])\n",
    "    i += 1\n",
    "    im = ax.imshow(icon) "
   ]
  },
  {
   "cell_type": "code",
   "execution_count": 47,
   "metadata": {
    "collapsed": false
   },
   "outputs": [
    {
     "data": {
      "text/plain": [
       "248"
      ]
     },
     "execution_count": 47,
     "metadata": {},
     "output_type": "execute_result"
    }
   ],
   "source": [
    "label_width = 400\n",
    "label_height = 50\n",
    "tlabels = []\n",
    "for bbox in bboxes_filter:\n",
    "    label_box = BBox(bbox.x2, bbox.y1, bbox.x2 + label_width, bbox.y1 + label_height)\n",
    "    #print(label_box.x1)\n",
    "    tlabels.append(label_box.extract(fimg_bw))\n",
    "len(tlabels)"
   ]
  },
  {
   "cell_type": "code",
   "execution_count": 49,
   "metadata": {
    "collapsed": false
   },
   "outputs": [
    {
     "data": {
      "image/png": "[encoded data removed]",
      "text/plain": [
       "<matplotlib.figure.Figure at 0x16e0b0550>"
      ]
     },
     "metadata": {},
     "output_type": "display_data"
    }
   ],
   "source": [
    "fig = plt.figure()\n",
    "width = 5\n",
    "height = math.ceil(len(icons_sorted) / float(width))\n",
    "#width = len(icons_filter) / 2\n",
    "i = 1\n",
    "for icon in tlabels:\n",
    "    #ddd = fimg_bw[b.y1:b.y_extent(), b.x1:b.x_extent(), :]\n",
    "    ax = fig.add_subplot(height,width,i)\n",
    "    ax.set_xticks([])\n",
    "    ax.set_yticks([])\n",
    "    i += 1\n",
    "    im = ax.imshow(icon) "
   ]
  }
 ],
 "metadata": {
  "kernelspec": {
   "display_name": "Python 2",
   "language": "python",
   "name": "python2"
  },
  "language_info": {
   "codemirror_mode": {
    "name": "ipython",
    "version": 2
   },
   "file_extension": ".py",
   "mimetype": "text/x-python",
   "name": "python",
   "nbconvert_exporter": "python",
   "pygments_lexer": "ipython2",
   "version": "2.7.12"
  }
 },
 "nbformat": 4,
 "nbformat_minor": 0
}
