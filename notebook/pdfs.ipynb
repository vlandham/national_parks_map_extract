{
 "cells": [
  {
   "cell_type": "code",
   "execution_count": 23,
   "metadata": {
    "collapsed": true
   },
   "outputs": [],
   "source": [
    "%matplotlib inline\n",
    "import minecart"
   ]
  },
  {
   "cell_type": "code",
   "execution_count": 2,
   "metadata": {
    "collapsed": false
   },
   "outputs": [],
   "source": [
    "pdffile = open('../pdfs/EBLAmap1.pdf', 'rb')\n",
    "doc = minecart.Document(pdffile)\n",
    "\n",
    "\n",
    "page = doc.iter_pages()"
   ]
  },
  {
   "cell_type": "code",
   "execution_count": 3,
   "metadata": {
    "collapsed": false
   },
   "outputs": [
    {
     "name": "stdout",
     "output_type": "stream",
     "text": [
      "page\n",
      "[('m', 91.6445, 46.8184), ('l', 92.6365, 46.742399999999996), ('l', 93.8265, 46.8244), ('l', 94.2635, 46.944399999999995)]"
     ]
    },
    {
     "ename": "AttributeError",
     "evalue": "'NoneType' object has no attribute 'color'",
     "output_type": "error",
     "traceback": [
      "\u001b[0;31m---------------------------------------------------------------------------\u001b[0m",
      "\u001b[0;31mAttributeError\u001b[0m                            Traceback (most recent call last)",
      "\u001b[0;32m<ipython-input-3-a56dabd82eaa>\u001b[0m in \u001b[0;36m<module>\u001b[0;34m()\u001b[0m\n\u001b[1;32m      3\u001b[0m     \u001b[0;32mprint\u001b[0m \u001b[0;34m'page'\u001b[0m\u001b[0;34m\u001b[0m\u001b[0m\n\u001b[1;32m      4\u001b[0m     \u001b[0;32mfor\u001b[0m \u001b[0mshape\u001b[0m \u001b[0;32min\u001b[0m \u001b[0mp\u001b[0m\u001b[0;34m.\u001b[0m\u001b[0mshapes\u001b[0m\u001b[0;34m.\u001b[0m\u001b[0miter_in_bbox\u001b[0m\u001b[0;34m(\u001b[0m\u001b[0;34m(\u001b[0m\u001b[0;36m0\u001b[0m\u001b[0;34m,\u001b[0m \u001b[0;36m0\u001b[0m\u001b[0;34m,\u001b[0m \u001b[0;36m100\u001b[0m\u001b[0;34m,\u001b[0m \u001b[0;36m200\u001b[0m\u001b[0;34m)\u001b[0m\u001b[0;34m)\u001b[0m\u001b[0;34m:\u001b[0m\u001b[0;34m\u001b[0m\u001b[0m\n\u001b[0;32m----> 5\u001b[0;31m         \u001b[0;32mprint\u001b[0m \u001b[0mshape\u001b[0m\u001b[0;34m.\u001b[0m\u001b[0mpath\u001b[0m\u001b[0;34m,\u001b[0m \u001b[0mshape\u001b[0m\u001b[0;34m.\u001b[0m\u001b[0mfill\u001b[0m\u001b[0;34m.\u001b[0m\u001b[0mcolor\u001b[0m\u001b[0;34m.\u001b[0m\u001b[0mas_rgb\u001b[0m\u001b[0;34m(\u001b[0m\u001b[0;34m)\u001b[0m\u001b[0;34m\u001b[0m\u001b[0m\n\u001b[0m\u001b[1;32m      6\u001b[0m \u001b[0;34m\u001b[0m\u001b[0m\n\u001b[1;32m      7\u001b[0m \u001b[0;34m\u001b[0m\u001b[0m\n",
      "\u001b[0;31mAttributeError\u001b[0m: 'NoneType' object has no attribute 'color'"
     ]
    }
   ],
   "source": [
    "\n",
    "for p in page:\n",
    "    print 'page'\n",
    "    for shape in p.shapes.iter_in_bbox((0, 0, 100, 200)):\n",
    "        print shape.path, shape.fill.color.as_rgb()\n",
    "    \n",
    "\n",
    "    "
   ]
  },
  {
   "cell_type": "code",
   "execution_count": 4,
   "metadata": {
    "collapsed": false
   },
   "outputs": [
    {
     "name": "stdout",
     "output_type": "stream",
     "text": [
      "\n"
     ]
    }
   ],
   "source": [
    "from pdfminer.pdfparser import PDFParser\n",
    "from pdfminer.pdfdocument import PDFDocument\n",
    "from pdfminer.pdfpage import PDFPage\n",
    "from pdfminer.pdfpage import PDFTextExtractionNotAllowed\n",
    "from pdfminer.pdfinterp import PDFResourceManager\n",
    "from pdfminer.pdfinterp import PDFPageInterpreter\n",
    "from pdfminer.pdfdevice import PDFDevice"
   ]
  },
  {
   "cell_type": "code",
   "execution_count": null,
   "metadata": {
    "collapsed": true
   },
   "outputs": [],
   "source": []
  },
  {
   "cell_type": "code",
   "execution_count": 5,
   "metadata": {
    "collapsed": true
   },
   "outputs": [],
   "source": [
    "fp = open('../pdfs/EBLAmap1.pdf', 'rb')\n",
    "parser = PDFParser(fp)\n",
    "document = PDFDocument(parser)\n",
    "if not document.is_extractable:\n",
    "    raise PDFTextExtractionNotAllowed\n",
    "\n",
    "\n",
    "rsrcmgr = PDFResourceManager()\n",
    "device = PDFDevice(rsrcmgr)\n",
    "\n",
    "interpreter = PDFPageInterpreter(rsrcmgr, device)"
   ]
  },
  {
   "cell_type": "code",
   "execution_count": 6,
   "metadata": {
    "collapsed": true
   },
   "outputs": [],
   "source": [
    "for page in PDFPage.create_pages(document):\n",
    "    interpreter.process_page(page)"
   ]
  },
  {
   "cell_type": "code",
   "execution_count": 7,
   "metadata": {
    "collapsed": true
   },
   "outputs": [],
   "source": [
    "from pdfminer.layout import LAParams\n",
    "from pdfminer.converter import PDFPageAggregator"
   ]
  },
  {
   "cell_type": "code",
   "execution_count": 8,
   "metadata": {
    "collapsed": true
   },
   "outputs": [],
   "source": [
    "laparams = LAParams()\n",
    "device = PDFPageAggregator(rsrcmgr, laparams=laparams)\n",
    "interpreter = PDFPageInterpreter(rsrcmgr, device)\n",
    "for page in PDFPage.create_pages(document):\n",
    "    interpreter.process_page(page)\n",
    "    \n",
    "    layout = device.get_result()\n",
    "    \n"
   ]
  },
  {
   "cell_type": "code",
   "execution_count": 10,
   "metadata": {
    "collapsed": false
   },
   "outputs": [
    {
     "data": {
      "text/plain": [
       "1215.0"
      ]
     },
     "execution_count": 10,
     "metadata": {},
     "output_type": "execute_result"
    }
   ],
   "source": [
    "layout.height"
   ]
  },
  {
   "cell_type": "code",
   "execution_count": 13,
   "metadata": {
    "collapsed": false
   },
   "outputs": [],
   "source": [
    "from skimage import data, io, filters\n",
    "import os"
   ]
  },
  {
   "cell_type": "code",
   "execution_count": 29,
   "metadata": {
    "collapsed": false
   },
   "outputs": [],
   "source": [
    "filename = '../out.jpg'\n",
    "img = io.imread(filename, as_grey=False)"
   ]
  },
  {
   "cell_type": "code",
   "execution_count": 17,
   "metadata": {
    "collapsed": false
   },
   "outputs": [],
   "source": [
    "from skimage.filters import roberts, sobel, scharr, prewitt"
   ]
  },
  {
   "cell_type": "code",
   "execution_count": 20,
   "metadata": {
    "collapsed": false
   },
   "outputs": [],
   "source": [
    "#edge_roberts = roberts(img )"
   ]
  },
  {
   "cell_type": "code",
   "execution_count": 21,
   "metadata": {
    "collapsed": true
   },
   "outputs": [],
   "source": [
    "import matplotlib.pyplot as plt"
   ]
  },
  {
   "cell_type": "code",
   "execution_count": 30,
   "metadata": {
    "collapsed": false
   },
   "outputs": [
    {
     "data": {
      "text/plain": [
       "<matplotlib.image.AxesImage at 0x11491c910>"
      ]
     },
     "execution_count": 30,
     "metadata": {},
     "output_type": "execute_result"
    },
    {
     "data": {
      "image/png": "[encoded data removed]",
      "text/plain": [
       "<matplotlib.figure.Figure at 0x11466a510>"
      ]
     },
     "metadata": {},
     "output_type": "display_data"
    }
   ],
   "source": [
    "io.imshow(img)"
   ]
  },
  {
   "cell_type": "code",
   "execution_count": 39,
   "metadata": {
    "collapsed": true
   },
   "outputs": [],
   "source": [
    "from skimage import color, img_as_float\n",
    "import numpy as np"
   ]
  },
  {
   "cell_type": "code",
   "execution_count": 63,
   "metadata": {
    "collapsed": false
   },
   "outputs": [
    {
     "data": {
      "text/plain": [
       "(5063, 5956, 3)"
      ]
     },
     "execution_count": 63,
     "metadata": {},
     "output_type": "execute_result"
    }
   ],
   "source": [
    "fimg = img_as_float(img)\n",
    "fimg.shape"
   ]
  },
  {
   "cell_type": "code",
   "execution_count": 64,
   "metadata": {
    "collapsed": false
   },
   "outputs": [],
   "source": [
    "filter_black = np.sum(fimg, axis=2)\n",
    "fimg_bw = fimg.copy()\n",
    "fimg_bw[(filter_black != 0)] = 1"
   ]
  },
  {
   "cell_type": "code",
   "execution_count": 65,
   "metadata": {
    "collapsed": false
   },
   "outputs": [
    {
     "data": {
      "text/plain": [
       "<matplotlib.image.AxesImage at 0x116c7b5d0>"
      ]
     },
     "execution_count": 65,
     "metadata": {},
     "output_type": "execute_result"
    },
    {
     "data": {
      "image/png": "[encoded data removed]",
      "text/plain": [
       "<matplotlib.figure.Figure at 0x116b7b9d0>"
      ]
     },
     "metadata": {},
     "output_type": "display_data"
    }
   ],
   "source": [
    "#fimg_bw.reshape(5063, 5956, 1)\n",
    "\n",
    "io.imshow(fimg_bw)"
   ]
  },
  {
   "cell_type": "code",
   "execution_count": 88,
   "metadata": {
    "collapsed": false
   },
   "outputs": [
    {
     "data": {
      "text/plain": [
       "(5063, 5956, 3)"
      ]
     },
     "execution_count": 88,
     "metadata": {},
     "output_type": "execute_result"
    }
   ],
   "source": [
    "fimg_bw.shape"
   ]
  },
  {
   "cell_type": "code",
   "execution_count": null,
   "metadata": {
    "collapsed": true
   },
   "outputs": [],
   "source": []
  },
  {
   "cell_type": "code",
   "execution_count": 188,
   "metadata": {
    "collapsed": true
   },
   "outputs": [],
   "source": []
  },
  {
   "cell_type": "code",
   "execution_count": 190,
   "metadata": {
    "collapsed": false
   },
   "outputs": [],
   "source": [
    "import numpy as np"
   ]
  },
  {
   "cell_type": "code",
   "execution_count": 338,
   "metadata": {
    "collapsed": false
   },
   "outputs": [],
   "source": [
    "\n",
    "class BBox(object):\n",
    "    def __init__(self, x1, y1, x2, y2):\n",
    "        '''\n",
    "        (x1, y1) is the upper left corner,\n",
    "        (x2, y2) is the lower right corner,\n",
    "        with (0, 0) being in the upper left corner.\n",
    "        '''\n",
    "        if x1 > x2: x1, x2 = x2, x1\n",
    "        if y1 > y2: y1, y2 = y2, y1\n",
    "        self.x1 = x1\n",
    "        self.y1 = y1\n",
    "        self.x2 = x2\n",
    "        self.y2 = y2\n",
    "    \n",
    "    def width(self):\n",
    "        return self.x2 - self.x1\n",
    "    \n",
    "    def height(self):\n",
    "        return self.y2 - self.y1\n",
    "    \n",
    "    def x_extent(self):\n",
    "        return self.x1 + self.width()\n",
    "\n",
    "    def y_extent(self):\n",
    "        return self.y1 + self.height()\n",
    "    \n",
    "    def extract(self, img):\n",
    "        return img[(b.y1 - 1):b.y_extent(), (b.x1 - 1):b.x_extent(), :]\n",
    "\n",
    "    \n",
    "    def taxicab_diagonal(self):\n",
    "        '''\n",
    "        Return the taxicab distance from (x1,y1) to (x2,y2)\n",
    "        '''\n",
    "        return self.x2 - self.x1 + self.y2 - self.y1\n",
    "    \n",
    "    def overlaps(self, other):\n",
    "        '''\n",
    "        Return True iff self and other overlap.\n",
    "        '''\n",
    "        return not ((self.x1 > other.x2)\n",
    "                    or (self.x2 < other.x1)\n",
    "                    or (self.y1 > other.y2)\n",
    "                    or (self.y2 < other.y1))\n",
    "    \n",
    "    def __eq__(self, other):\n",
    "        return (self.x1 == other.x1\n",
    "                and self.y1 == other.y1\n",
    "                and self.x2 == other.x2\n",
    "                and self.y2 == other.y2)\n",
    "\n",
    "    \n",
    "def slice_to_bbox(slices):\n",
    "    for s in slices:\n",
    "        dy, dx = s[:2]\n",
    "        yield BBox(dx.start, dy.start, dx.stop+1, dy.stop+1)\n",
    "\n",
    "        \n",
    "def remove_overlaps(bboxes):\n",
    "    '''\n",
    "    Return a set of BBoxes which contain the given BBoxes.\n",
    "    When two BBoxes overlap, replace both with the minimal BBox that contains both.\n",
    "    '''\n",
    "    # list upper left and lower right corners of the Bboxes\n",
    "    corners = []\n",
    "\n",
    "    # list upper left corners of the Bboxes\n",
    "    ulcorners = []\n",
    "\n",
    "    # dict mapping corners to Bboxes.\n",
    "    bbox_map = {}\n",
    "\n",
    "    for bbox in bboxes:\n",
    "        ul = (bbox.x1, bbox.y1)\n",
    "        lr = (bbox.x2, bbox.y2)\n",
    "        bbox_map[ul] = bbox\n",
    "        bbox_map[lr] = bbox\n",
    "        ulcorners.append(ul)\n",
    "        corners.append(ul)\n",
    "        corners.append(lr)        \n",
    "\n",
    "    # Use a KDTree so we can find corners that are nearby efficiently.\n",
    "    tree = spatial.KDTree(corners)\n",
    "    new_corners = []\n",
    "    for corner in ulcorners:\n",
    "        bbox = bbox_map[corner]\n",
    "        # Find all points which are within a taxicab distance of corner\n",
    "        indices = tree.query_ball_point(\n",
    "            corner, bbox_map[corner].taxicab_diagonal(), p = 1)\n",
    "        for near_corner in tree.data[indices]:\n",
    "            near_bbox = bbox_map[tuple(near_corner)]\n",
    "            if bbox != near_bbox and bbox.overlaps(near_bbox):\n",
    "                # Expand both bboxes.\n",
    "                # Since we mutate the bbox, all references to this bbox in\n",
    "                # bbox_map are updated simultaneously.\n",
    "                bbox.x1 = near_bbox.x1 = min(bbox.x1, near_bbox.x1)\n",
    "                bbox.y1 = near_bbox.y1 = min(bbox.y1, near_bbox.y1) \n",
    "                bbox.x2 = near_bbox.x2 = max(bbox.x2, near_bbox.x2)\n",
    "                bbox.y2 = near_bbox.y2 = max(bbox.y2, near_bbox.y2) \n",
    "    return set(bbox_map.values())\n",
    "\n",
    "def remove_dups(bboxes):\n",
    "    clean_set = []\n",
    "    for bbox in bboxes:\n",
    "        if bbox not in clean_set:\n",
    "            clean_set.append(bbox)\n",
    "    return clean_set"
   ]
  },
  {
   "cell_type": "code",
   "execution_count": 339,
   "metadata": {
    "collapsed": false
   },
   "outputs": [],
   "source": [
    "fimg_bw_one = fimg_bw[:,:,1]\n",
    "fimg_bw_one_invert = 1 - fimg_bw_one\n",
    "labels, numobjects = ndimage.label(fimg_bw_one_invert)\n",
    "slices = ndimage.find_objects(labels)\n",
    "\n",
    "bboxes = (slice_to_bbox(slices))\n",
    "#len(bboxes)\n",
    "bboxes = remove_dups(bboxes)"
   ]
  },
  {
   "cell_type": "code",
   "execution_count": 340,
   "metadata": {
    "collapsed": false
   },
   "outputs": [
    {
     "name": "stdout",
     "output_type": "stream",
     "text": [
      "2390\n"
     ]
    }
   ],
   "source": [
    "print(len(bboxes))"
   ]
  },
  {
   "cell_type": "code",
   "execution_count": 341,
   "metadata": {
    "collapsed": false
   },
   "outputs": [],
   "source": [
    "bbox_list = []\n",
    "for bbox in bboxes:\n",
    "    bbox_list.append(bbox)\n",
    "    "
   ]
  },
  {
   "cell_type": "code",
   "execution_count": 342,
   "metadata": {
    "collapsed": false
   },
   "outputs": [
    {
     "data": {
      "text/plain": [
       "36"
      ]
     },
     "execution_count": 342,
     "metadata": {},
     "output_type": "execute_result"
    }
   ],
   "source": [
    "bboxes_filter = [bbox for bbox in bbox_list if (bbox.width() > 30) and (bbox.width() < 50) and (bbox.height() > 30) and (bbox.height() < 50)]\n",
    "len(bboxes_filter)"
   ]
  },
  {
   "cell_type": "code",
   "execution_count": 343,
   "metadata": {
    "collapsed": false
   },
   "outputs": [
    {
     "name": "stdout",
     "output_type": "stream",
     "text": [
      "2570\n",
      "2612\n"
     ]
    },
    {
     "data": {
      "text/plain": [
       "<matplotlib.image.AxesImage at 0x122690a50>"
      ]
     },
     "execution_count": 343,
     "metadata": {},
     "output_type": "execute_result"
    },
    {
     "data": {
      "image/png": "[encoded data removed]",
      "text/plain": [
       "<matplotlib.figure.Figure at 0x124ef3c90>"
      ]
     },
     "metadata": {},
     "output_type": "display_data"
    }
   ],
   "source": [
    "b = bboxes_filter[15]\n",
    "print(b.x1)\n",
    "print(b.x2)\n",
    "#ddd = fimg_bw[b.y1:b.y_extent(), b.x1:b.x_extent(), :]\n",
    "ddd = b.extract(fimg_bw)\n",
    "#print(b.width())\n",
    "io.imshow(ddd)"
   ]
  },
  {
   "cell_type": "code",
   "execution_count": 352,
   "metadata": {
    "collapsed": false
   },
   "outputs": [
    {
     "data": {
      "text/plain": [
       "739.0"
      ]
     },
     "execution_count": 352,
     "metadata": {},
     "output_type": "execute_result"
    }
   ],
   "source": [
    "sum(np.sum(ddd[:,:,1], axis=1))"
   ]
  },
  {
   "cell_type": "code",
   "execution_count": 334,
   "metadata": {
    "collapsed": false
   },
   "outputs": [
    {
     "data": {
      "image/png": "[encoded data removed]",
      "text/plain": [
       "<matplotlib.figure.Figure at 0x1257e2ad0>"
      ]
     },
     "metadata": {},
     "output_type": "display_data"
    }
   ],
   "source": [
    "\n",
    "fig = plt.figure()\n",
    "i = 1\n",
    "for b in bboxes_filter:\n",
    "    ddd = fimg_bw[b.y1:b.y_extent(), b.x1:b.x_extent(), :]\n",
    "    ax = fig.add_subplot(10,10,i)\n",
    "    ax.set_xticks([])\n",
    "    ax.set_yticks([])\n",
    "    i += 1\n",
    "    im = ax.imshow(ddd) "
   ]
  },
  {
   "cell_type": "code",
   "execution_count": 353,
   "metadata": {
    "collapsed": false
   },
   "outputs": [
    {
     "data": {
      "image/png": "[encoded data removed]",
      "text/plain": [
       "<matplotlib.figure.Figure at 0x1256d9590>"
      ]
     },
     "metadata": {},
     "output_type": "display_data"
    }
   ],
   "source": [
    "fig = plt.figure()\n",
    "ax = fig.add_subplot(111)\n",
    "im = ax.imshow(fimg_bw)    \n",
    "for bbox in bboxes_filter:\n",
    "    xwidth = bbox.x2 - bbox.x1\n",
    "    ywidth = bbox.y2 - bbox.y1\n",
    "    p = patches.Rectangle((bbox.x1, bbox.y1), bbox.width(), bbox.height(),\n",
    "                          fc = 'none', ec = 'red')\n",
    "    ax.add_patch(p)"
   ]
  },
  {
   "cell_type": "code",
   "execution_count": 67,
   "metadata": {
    "collapsed": true
   },
   "outputs": [],
   "source": [
    "window_size = 40\n",
    "\n",
    "rows = fimg_bw.shape[0]\n",
    "cols = fimg_bw.shape[1]"
   ]
  },
  {
   "cell_type": "code",
   "execution_count": 93,
   "metadata": {
    "collapsed": false
   },
   "outputs": [
    {
     "data": {
      "text/plain": [
       "30.0"
      ]
     },
     "execution_count": 93,
     "metadata": {},
     "output_type": "execute_result"
    }
   ],
   "source": [
    "#x = np.sum(np.sum(fimg_bw[0:5, 1:3, :], axis=2))\n",
    "#x"
   ]
  },
  {
   "cell_type": "code",
   "execution_count": 128,
   "metadata": {
    "collapsed": false
   },
   "outputs": [
    {
     "data": {
      "text/plain": [
       "960.0"
      ]
     },
     "execution_count": 128,
     "metadata": {},
     "output_type": "execute_result"
    }
   ],
   "source": [
    "(40 * 40) * .8\n",
    "((40 * 40) * .2 * 3)\n",
    "#320 * 3"
   ]
  },
  {
   "cell_type": "code",
   "execution_count": 135,
   "metadata": {
    "collapsed": false
   },
   "outputs": [],
   "source": [
    "squares = []\n",
    "sums = []\n",
    "for i in xrange(0, rows, 5):\n",
    "    for j in xrange(0, cols, 5):\n",
    "        if (i+window_size < rows) & (j+window_size < cols):\n",
    "            window_sum = np.sum(np.sum(fimg_bw[i:(i+window_size), j:(j+window_size), :], axis=2))\n",
    "            if window_sum < 960.0:\n",
    "                squares.append((i,j))\n",
    "\n",
    "#squares"
   ]
  },
  {
   "cell_type": "code",
   "execution_count": 136,
   "metadata": {
    "collapsed": false
   },
   "outputs": [
    {
     "ename": "ValueError",
     "evalue": "min() arg is an empty sequence",
     "output_type": "error",
     "traceback": [
      "\u001b[0;31m---------------------------------------------------------------------------\u001b[0m",
      "\u001b[0;31mValueError\u001b[0m                                Traceback (most recent call last)",
      "\u001b[0;32m<ipython-input-136-7e6c5ed81b3d>\u001b[0m in \u001b[0;36m<module>\u001b[0;34m()\u001b[0m\n\u001b[0;32m----> 1\u001b[0;31m \u001b[0mmin\u001b[0m\u001b[0;34m(\u001b[0m\u001b[0msums\u001b[0m\u001b[0;34m)\u001b[0m\u001b[0;34m\u001b[0m\u001b[0m\n\u001b[0m",
      "\u001b[0;31mValueError\u001b[0m: min() arg is an empty sequence"
     ]
    }
   ],
   "source": [
    "min(sums)"
   ]
  },
  {
   "cell_type": "code",
   "execution_count": 137,
   "metadata": {
    "collapsed": false
   },
   "outputs": [
    {
     "data": {
      "text/plain": [
       "0"
      ]
     },
     "execution_count": 137,
     "metadata": {},
     "output_type": "execute_result"
    }
   ],
   "source": [
    "len(squares)"
   ]
  },
  {
   "cell_type": "code",
   "execution_count": 134,
   "metadata": {
    "collapsed": false
   },
   "outputs": [
    {
     "data": {
      "text/plain": [
       "(0, 5950)"
      ]
     },
     "execution_count": 134,
     "metadata": {},
     "output_type": "execute_result"
    }
   ],
   "source": [
    "squares[0]"
   ]
  },
  {
   "cell_type": "code",
   "execution_count": 133,
   "metadata": {
    "collapsed": false
   },
   "outputs": [
    {
     "data": {
      "text/plain": [
       "<matplotlib.image.AxesImage at 0x1241fb490>"
      ]
     },
     "execution_count": 133,
     "metadata": {},
     "output_type": "execute_result"
    },
    {
     "data": {
      "image/png": "[encoded data removed]",
      "text/plain": [
       "<matplotlib.figure.Figure at 0x1172f1d50>"
      ]
     },
     "metadata": {},
     "output_type": "display_data"
    }
   ],
   "source": [
    "square = squares[1]\n",
    "s_img = fimg_bw[square[0]:(square[0]+window_size), square[1]:(square[1]+window_size), :]\n",
    "io.imshow(s_img)"
   ]
  },
  {
   "cell_type": "code",
   "execution_count": 139,
   "metadata": {
    "collapsed": true
   },
   "outputs": [],
   "source": []
  },
  {
   "cell_type": "code",
   "execution_count": 170,
   "metadata": {
    "collapsed": false
   },
   "outputs": [
    {
     "data": {
      "text/plain": [
       "2426"
      ]
     },
     "execution_count": 170,
     "metadata": {},
     "output_type": "execute_result"
    }
   ],
   "source": [
    "from skimage import measure\n",
    "\n",
    "contours = measure.find_contours(fimg_bw_one, 0.01, fully_connected='low')\n",
    "\n",
    "len(contours)"
   ]
  },
  {
   "cell_type": "code",
   "execution_count": 174,
   "metadata": {
    "collapsed": false
   },
   "outputs": [
    {
     "data": {
      "text/plain": [
       "array([ 966.  ,  965.01,  965.  , ...,  966.  ,  966.01,  966.  ])"
      ]
     },
     "execution_count": 174,
     "metadata": {},
     "output_type": "execute_result"
    }
   ],
   "source": [
    "contours[0][:, 0]\n"
   ]
  },
  {
   "cell_type": "code",
   "execution_count": 175,
   "metadata": {
    "collapsed": true
   },
   "outputs": [],
   "source": [
    "import numpy as np\n",
    "import scipy.ndimage as ndimage\n",
    "import scipy.spatial as spatial\n",
    "import scipy.misc as misc\n",
    "import matplotlib.pyplot as plt\n",
    "import matplotlib.patches as patches\n",
    "\n",
    "class BBox(object):\n",
    "    def __init__(self, x1, y1, x2, y2):\n",
    "        '''\n",
    "        (x1, y1) is the upper left corner,\n",
    "        (x2, y2) is the lower right corner,\n",
    "        with (0, 0) being in the upper left corner.\n",
    "        '''\n",
    "        if x1 > x2: x1, x2 = x2, x1\n",
    "        if y1 > y2: y1, y2 = y2, y1\n",
    "        self.x1 = x1\n",
    "        self.y1 = y1\n",
    "        self.x2 = x2\n",
    "        self.y2 = y2\n",
    "    def taxicab_diagonal(self):\n",
    "        '''\n",
    "        Return the taxicab distance from (x1,y1) to (x2,y2)\n",
    "        '''\n",
    "        return self.x2 - self.x1 + self.y2 - self.y1\n",
    "    def overlaps(self, other):\n",
    "        '''\n",
    "        Return True iff self and other overlap.\n",
    "        '''\n",
    "        return not ((self.x1 > other.x2)\n",
    "                    or (self.x2 < other.x1)\n",
    "                    or (self.y1 > other.y2)\n",
    "                    or (self.y2 < other.y1))\n",
    "    def __eq__(self, other):\n",
    "        return (self.x1 == other.x1\n",
    "                and self.y1 == other.y1\n",
    "                and self.x2 == other.x2\n",
    "                and self.y2 == other.y2)\n",
    "\n",
    "def find_paws(data, smooth_radius = 5, threshold = 0.0001):\n",
    "    # http://stackoverflow.com/questions/4087919/how-can-i-improve-my-paw-detection\n",
    "    \"\"\"Detects and isolates contiguous regions in the input array\"\"\"\n",
    "    # Blur the input data a bit so the paws have a continous footprint \n",
    "    #data = ndimage.uniform_filter(data, smooth_radius)\n",
    "    # Threshold the blurred data (this needs to be a bit > 0 due to the blur)\n",
    "    thresh = data > threshold\n",
    "    # Fill any interior holes in the paws to get cleaner regions...\n",
    "    filled = ndimage.morphology.binary_fill_holes(thresh)\n",
    "    # Label each contiguous paw\n",
    "    coded_paws, num_paws = ndimage.label(filled)\n",
    "    # Isolate the extent of each paw\n",
    "    # find_objects returns a list of 2-tuples: (slice(...), slice(...))\n",
    "    # which represents a rectangular box around the object\n",
    "    data_slices = ndimage.find_objects(coded_paws)\n",
    "    return data_slices\n",
    "\n",
    "def slice_to_bbox(slices):\n",
    "    for s in slices:\n",
    "        dy, dx = s[:2]\n",
    "        yield BBox(dx.start, dy.start, dx.stop+1, dy.stop+1)\n",
    "\n",
    "def remove_overlaps(bboxes):\n",
    "    '''\n",
    "    Return a set of BBoxes which contain the given BBoxes.\n",
    "    When two BBoxes overlap, replace both with the minimal BBox that contains both.\n",
    "    '''\n",
    "    # list upper left and lower right corners of the Bboxes\n",
    "    corners = []\n",
    "\n",
    "    # list upper left corners of the Bboxes\n",
    "    ulcorners = []\n",
    "\n",
    "    # dict mapping corners to Bboxes.\n",
    "    bbox_map = {}\n",
    "\n",
    "    for bbox in bboxes:\n",
    "        ul = (bbox.x1, bbox.y1)\n",
    "        lr = (bbox.x2, bbox.y2)\n",
    "        bbox_map[ul] = bbox\n",
    "        bbox_map[lr] = bbox\n",
    "        ulcorners.append(ul)\n",
    "        corners.append(ul)\n",
    "        corners.append(lr)        \n",
    "\n",
    "    # Use a KDTree so we can find corners that are nearby efficiently.\n",
    "    tree = spatial.KDTree(corners)\n",
    "    new_corners = []\n",
    "    for corner in ulcorners:\n",
    "        bbox = bbox_map[corner]\n",
    "        # Find all points which are within a taxicab distance of corner\n",
    "        indices = tree.query_ball_point(\n",
    "            corner, bbox_map[corner].taxicab_diagonal(), p = 1)\n",
    "        for near_corner in tree.data[indices]:\n",
    "            near_bbox = bbox_map[tuple(near_corner)]\n",
    "            if bbox != near_bbox and bbox.overlaps(near_bbox):\n",
    "                # Expand both bboxes.\n",
    "                # Since we mutate the bbox, all references to this bbox in\n",
    "                # bbox_map are updated simultaneously.\n",
    "                bbox.x1 = near_bbox.x1 = min(bbox.x1, near_bbox.x1)\n",
    "                bbox.y1 = near_bbox.y1 = min(bbox.y1, near_bbox.y1) \n",
    "                bbox.x2 = near_bbox.x2 = max(bbox.x2, near_bbox.x2)\n",
    "                bbox.y2 = near_bbox.y2 = max(bbox.y2, near_bbox.y2) \n",
    "    return set(bbox_map.values())\n",
    "\n",
    "# if __name__ == '__main__':\n",
    "#     fig = plt.figure()\n",
    "#     ax = fig.add_subplot(111)\n",
    "\n",
    "#     data = misc.imread('image.png')\n",
    "#     im = ax.imshow(data)    \n",
    "#     data_slices = find_paws(255-data, smooth_radius = 20, threshold = 22)\n",
    "\n",
    "#     bboxes = remove_overlaps(slice_to_bbox(data_slices))\n",
    "#     for bbox in bboxes:\n",
    "#         xwidth = bbox.x2 - bbox.x1\n",
    "#         ywidth = bbox.y2 - bbox.y1\n",
    "#         p = patches.Rectangle((bbox.x1, bbox.y1), xwidth, ywidth,\n",
    "#                               fc = 'none', ec = 'red')\n",
    "#         ax.add_patch(p)\n",
    "\n",
    "#     plt.show()"
   ]
  },
  {
   "cell_type": "code",
   "execution_count": 180,
   "metadata": {
    "collapsed": true
   },
   "outputs": [],
   "source": [
    "filter_black = np.sum(img, axis=2)\n",
    "img_bw = img.copy()\n",
    "img_bw[(filter_black != 0)] = 255"
   ]
  },
  {
   "cell_type": "code",
   "execution_count": 186,
   "metadata": {
    "collapsed": false
   },
   "outputs": [],
   "source": [
    "data_slices = find_paws(255-img_bw, smooth_radius = 5)\n",
    "bboxes = remove_overlaps(slice_to_bbox(data_slices))"
   ]
  },
  {
   "cell_type": "code",
   "execution_count": 187,
   "metadata": {
    "collapsed": false
   },
   "outputs": [
    {
     "data": {
      "image/png": "[encoded data removed]",
      "text/plain": [
       "<matplotlib.figure.Figure at 0x11a10d490>"
      ]
     },
     "metadata": {},
     "output_type": "display_data"
    }
   ],
   "source": [
    "fig = plt.figure()\n",
    "ax = fig.add_subplot(111)\n",
    "im = ax.imshow(img_bw)    \n",
    "for bbox in bboxes:\n",
    "    xwidth = bbox.x2 - bbox.x1\n",
    "    ywidth = bbox.y2 - bbox.y1\n",
    "    p = patches.Rectangle((bbox.x1, bbox.y1), xwidth, ywidth,\n",
    "                          fc = 'none', ec = 'red')\n",
    "    ax.add_patch(p)"
   ]
  },
  {
   "cell_type": "code",
   "execution_count": 158,
   "metadata": {
    "collapsed": false
   },
   "outputs": [
    {
     "data": {
      "text/plain": [
       "<matplotlib.image.AxesImage at 0x11adcc750>"
      ]
     },
     "execution_count": 158,
     "metadata": {},
     "output_type": "execute_result"
    },
    {
     "data": {
      "image/png": "[encoded data removed]",
      "text/plain": [
       "<matplotlib.figure.Figure at 0x11ac57210>"
      ]
     },
     "metadata": {},
     "output_type": "display_data"
    }
   ],
   "source": [
    "io.imshow(contours[20])"
   ]
  },
  {
   "cell_type": "code",
   "execution_count": 166,
   "metadata": {
    "collapsed": false
   },
   "outputs": [
    {
     "data": {
      "image/png": "[encoded data removed]",
      "text/plain": [
       "<matplotlib.figure.Figure at 0x11af7d310>"
      ]
     },
     "metadata": {},
     "output_type": "display_data"
    }
   ],
   "source": [
    "fig, ax = plt.subplots()\n",
    "ax.imshow(fimg_bw)\n",
    "\n",
    "for n, contour in enumerate(contours):\n",
    "    ax.plot(contour[:, 1], contour[:, 0], linewidth=2)\n",
    "\n",
    "ax.axis('image')\n",
    "ax.set_xticks([])\n",
    "ax.set_yticks([])\n",
    "plt.savefig('temp.png')\n",
    "plt.show()"
   ]
  },
  {
   "cell_type": "code",
   "execution_count": 142,
   "metadata": {
    "collapsed": false
   },
   "outputs": [
    {
     "data": {
      "text/plain": [
       "<matplotlib.figure.Figure at 0x117180050>"
      ]
     },
     "metadata": {},
     "output_type": "display_data"
    }
   ],
   "source": []
  },
  {
   "cell_type": "code",
   "execution_count": 66,
   "metadata": {
    "collapsed": false
   },
   "outputs": [
    {
     "name": "stderr",
     "output_type": "stream",
     "text": [
      "/Users/vlandham/code/python/miniconda2/envs/pdf/lib/python2.7/site-packages/skimage/io/_io.py:132: UserWarning: bw_tmp.png is a low contrast image\n",
      "  warn('%s is a low contrast image' % fname)\n",
      "/Users/vlandham/code/python/miniconda2/envs/pdf/lib/python2.7/site-packages/skimage/util/dtype.py:110: UserWarning: Possible precision loss when converting from float64 to uint8\n",
      "  \"%s to %s\" % (dtypeobj_in, dtypeobj))\n"
     ]
    }
   ],
   "source": [
    "io.imsave(\"bw_tmp.png\", fimg_bw)"
   ]
  },
  {
   "cell_type": "code",
   "execution_count": 27,
   "metadata": {
    "collapsed": true
   },
   "outputs": [],
   "source": [
    "from skimage import feature\n",
    "\n",
    "edges2 = feature.canny(img, sigma=3)\n"
   ]
  },
  {
   "cell_type": "code",
   "execution_count": null,
   "metadata": {
    "collapsed": true
   },
   "outputs": [],
   "source": []
  },
  {
   "cell_type": "code",
   "execution_count": 28,
   "metadata": {
    "collapsed": false
   },
   "outputs": [
    {
     "name": "stderr",
     "output_type": "stream",
     "text": [
      "/Users/vlandham/code/python/miniconda2/envs/pdf/lib/python2.7/site-packages/skimage/io/_plugins/matplotlib_plugin.py:74: UserWarning: Low image dynamic range; displaying image with stretched contrast.\n",
      "  warn(\"Low image dynamic range; displaying image with \"\n"
     ]
    },
    {
     "data": {
      "text/plain": [
       "<matplotlib.image.AxesImage at 0x11458ff90>"
      ]
     },
     "execution_count": 28,
     "metadata": {},
     "output_type": "execute_result"
    },
    {
     "data": {
      "image/png": "[encoded data removed]",
      "text/plain": [
       "<matplotlib.figure.Figure at 0x1140f2f90>"
      ]
     },
     "metadata": {},
     "output_type": "display_data"
    }
   ],
   "source": [
    "io.imshow(edges2)"
   ]
  }
 ],
 "metadata": {
  "kernelspec": {
   "display_name": "Python 2",
   "language": "python",
   "name": "python2"
  },
  "language_info": {
   "codemirror_mode": {
    "name": "ipython",
    "version": 2
   },
   "file_extension": ".py",
   "mimetype": "text/x-python",
   "name": "python",
   "nbconvert_exporter": "python",
   "pygments_lexer": "ipython2",
   "version": "2.7.11"
  }
 },
 "nbformat": 4,
 "nbformat_minor": 0
}
